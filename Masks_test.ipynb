{
 "cells": [
  {
   "cell_type": "code",
   "execution_count": 2,
   "id": "charged-arkansas",
   "metadata": {},
   "outputs": [],
   "source": [
    "import cv2\n",
    "import matplotlib.pyplot as plt\n",
    "import numpy as np\n",
    "import imutils"
   ]
  },
  {
   "cell_type": "code",
   "execution_count": 156,
   "id": "latest-scoop",
   "metadata": {},
   "outputs": [],
   "source": [
    "def show_img(img, immediately_plot: bool = True):\n",
    "    a = cv2.cvtColor(img.copy(), cv2.COLOR_BGR2RGB)\n",
    "    plt.axis(False)\n",
    "    plt.imshow(a)\n",
    "    if(immediately_plot):\n",
    "        plt.show()"
   ]
  },
  {
   "cell_type": "code",
   "execution_count": 4,
   "id": "latin-pakistan",
   "metadata": {},
   "outputs": [],
   "source": [
    "def color_filter():\n",
    "    result = img.copy()\n",
    "    image = cv2.cvtColor(img, cv2.COLOR_BGR2HSV)\n",
    "    lower = np.array([155,25,0])\n",
    "    upper = np.array([179,255,255])\n",
    "    mask = cv2.inRange(img, lower, upper)\n",
    "    result = cv2.bitwise_and(img, result, mask=mask)"
   ]
  },
  {
   "cell_type": "code",
   "execution_count": 190,
   "id": "modified-calibration",
   "metadata": {},
   "outputs": [],
   "source": [
    "img = cv2.imread(\"Resources/newFiles/5.jpg\")"
   ]
  },
  {
   "cell_type": "code",
   "execution_count": 191,
   "id": "technological-cisco",
   "metadata": {},
   "outputs": [
    {
     "name": "stdout",
     "output_type": "stream",
     "text": [
      "6452.5 [6391.5, 53116.5, 282214.5, 14397.0]\n"
     ]
    },
    {
     "data": {
      "image/png": "[encoded data removed]",
      "text/plain": [
       "<Figure size 432x288 with 1 Axes>"
      ]
     },
     "metadata": {
      "needs_background": "light"
     },
     "output_type": "display_data"
    }
   ],
   "source": [
    "gray = cv2.cvtColor(img, cv2.COLOR_BGR2GRAY) \n",
    "  \n",
    "# Find Canny edges \n",
    "edged = cv2.Canny(gray, 30, 200) \n",
    "\n",
    "contours, hierarchy = cv2.findContours(edged,  cv2.RETR_EXTERNAL, cv2.CHAIN_APPROX_NONE) \n",
    "\n",
    "# show_img(edged)\n",
    "hull_list = []\n",
    "hull_area_list = []\n",
    "for i in range(len(contours)):\n",
    "    hull = cv2.convexHull(contours[i])\n",
    "    hull_area_list.append(cv2.contourArea(hull))\n",
    "    hull_list.append(hull)\n",
    "\n",
    "# drawing = np.zeros((edged.shape[0], edged.shape[1], 3), dtype=np.uint8)\n",
    "# for i,hull in enumerate(hull_list):\n",
    "#     cv2.drawContours(drawing, contours, i,(0,0,255),3)\n",
    "#     cv2.drawContours(drawing, hull_list, i, (0,255,0),3)\n",
    "\n",
    "mean_area = np.median(m_list)\n",
    "print(mean_area, hull_area_list)\n",
    "\n",
    "full_contours = []\n",
    "\n",
    "for i,hull_area in enumerate(hull_area_list):\n",
    "    if mean_area > hull_area:\n",
    "        continue\n",
    "#     print(i)\n",
    "#     drawing = np.zeros((edged.shape[0], edged.shape[1], 3), dtype=np.uint8)\n",
    "#     cv2.drawContours(drawing, [contours[i]], 0,(0,0,255),3)\n",
    "#     show_img(drawing)\n",
    "    for point in contours[i]:\n",
    "        full_contours.append(point.tolist())\n",
    "        \n",
    "full_contours = np.array(full_contours, dtype=np.int32)\n",
    "\n",
    "mask_hull = cv2.convexHull(full_contours)\n",
    "mask_img = np.zeros((edged.shape[0], edged.shape[1], 3), dtype=np.uint8)\n",
    "cv2.drawContours(mask_img, [mask_hull], 0, (0,255,0),3)\n",
    "show_img(mask_img)"
   ]
  },
  {
   "cell_type": "code",
   "execution_count": 192,
   "id": "corporate-speaker",
   "metadata": {},
   "outputs": [
    {
     "name": "stdout",
     "output_type": "stream",
     "text": [
      "[[[ 617  980]]\n",
      "\n",
      " [[ 280 1006]]\n",
      "\n",
      " [[  43 1014]]\n",
      "\n",
      " [[  41 1014]]\n",
      "\n",
      " [[  40 1011]]\n",
      "\n",
      " [[  39  878]]\n",
      "\n",
      " [[  39  760]]\n",
      "\n",
      " [[  42  202]]\n",
      "\n",
      " [[ 376  189]]\n",
      "\n",
      " [[ 465  186]]\n",
      "\n",
      " [[ 529  184]]\n",
      "\n",
      " [[ 564  183]]\n",
      "\n",
      " [[ 566  183]]\n",
      "\n",
      " [[ 567  191]]\n",
      "\n",
      " [[ 570  228]]\n",
      "\n",
      " [[ 601  646]]\n",
      "\n",
      " [[ 617  965]]]\n"
     ]
    }
   ],
   "source": [
    "print(mask_hull)"
   ]
  },
  {
   "cell_type": "code",
   "execution_count": null,
   "id": "clinical-influence",
   "metadata": {},
   "outputs": [],
   "source": []
  },
  {
   "cell_type": "code",
   "execution_count": 152,
   "id": "decimal-violence",
   "metadata": {},
   "outputs": [
    {
     "data": {
      "text/plain": [
       "148939.5"
      ]
     },
     "execution_count": 152,
     "metadata": {},
     "output_type": "execute_result"
    }
   ],
   "source": [
    "cv2.contourArea(mask_hull)"
   ]
  },
  {
   "cell_type": "code",
   "execution_count": 49,
   "id": "increasing-matrix",
   "metadata": {},
   "outputs": [
    {
     "data": {
      "image/png": "[encoded data removed]",
      "text/plain": [
       "<Figure size 432x288 with 1 Axes>"
      ]
     },
     "metadata": {
      "needs_background": "light"
     },
     "output_type": "display_data"
    }
   ],
   "source": []
  },
  {
   "cell_type": "code",
   "execution_count": null,
   "id": "through-component",
   "metadata": {},
   "outputs": [],
   "source": []
  }
 ],
 "metadata": {
  "kernelspec": {
   "display_name": "Python 3",
   "language": "python",
   "name": "python3"
  },
  "language_info": {
   "codemirror_mode": {
    "name": "ipython",
    "version": 3
   },
   "file_extension": ".py",
   "mimetype": "text/x-python",
   "name": "python",
   "nbconvert_exporter": "python",
   "pygments_lexer": "ipython3",
   "version": "3.8.5"
  }
 },
 "nbformat": 4,
 "nbformat_minor": 5
}
